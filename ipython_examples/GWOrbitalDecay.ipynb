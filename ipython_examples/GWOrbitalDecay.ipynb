{
 "cells": [
  {
   "cell_type": "markdown",
   "metadata": {},
   "source": [
    "# Gravitational Wave Orbital Decay example"
   ]
  },
  {
   "cell_type": "code",
   "metadata": {},
   "source": [
    "import rebound, reboundx\n",
    "sim = rebound.Simulation()\n",
    "sim.add(m=1)\n",
    "sim.add(m=1e-3, a=0.01, e=0.1)\n",
    "rebx = reboundx.Extras(sim)\n",
    "gw = rebx.load_operator('gw_orbital_decay')\n",
    "rebx.add_operator(gw)\n",
    "sim.dt = 1e-3\n",
    "sim.integrate(0.1)\n",
    "print(sim.particles[1].a)"
   ],
   "execution_count": null,
   "outputs": []
  }
 ],
 "metadata": {
  "kernelspec": {
   "display_name": "Python 3",
   "language": "python",
   "name": "python3"
  },
  "language_info": {
   "name": "python",
   "version": "3.x"
  }
 },
 "nbformat": 4,
 "nbformat_minor": 2
}
